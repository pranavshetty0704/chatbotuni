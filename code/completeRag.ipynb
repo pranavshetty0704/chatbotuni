{
 "cells": [
  {
   "cell_type": "code",
   "execution_count": 3,
   "metadata": {},
   "outputs": [],
   "source": [
    "from langchain_community.document_loaders import PyPDFDirectoryLoader"
   ]
  },
  {
   "cell_type": "code",
   "execution_count": 4,
   "metadata": {},
   "outputs": [
    {
     "data": {
      "text/plain": [
       "[Document(page_content=\"Scraped Data\\nVidyavardhini's College Of Engineering & Technology, Vasai Road\\n??????????????? ???????????? ??? ?????????? ???????????, ??? ???\\n(Approved by AICTE, DTE Maharashtra and Affiliated to University of Mumbai)\\nNBA & NAAC Accredited\\nAbout Alumni\\nHome»About alumni\\nVCET Alumni Association\\nAn alumni meet is organized regularly. Alumni?s are contacted through various social media like\\nface book, WhatsApp etc. and also invited through personal emails. The date of alumni meet is\\nfloated on institute website the alumni?s are appealed to register online for the same. The meet\\ncomprises of a welcome program, Interaction, entertainment programs like singing, dancing followed\\nby dinner. A feedback is also taken during this occasion. There is an interactive session between\\nfaculty and alumni wherein their views and suggestions are noted for betterment of the college. This\\ninteraction improves industry contacts for placement, project and internship. The institute has a\\npolicy of not to collect any financial aid from alumni apart from registration fees towards alumni\\nassociation. Instead, distinguished alumni are invited as guest lecturer for seminar and workshops\\netc. to share their experience about the latest trend in industry. It helps the current students to get\", metadata={'source': 'C:\\\\Users\\\\shett\\\\OneDrive\\\\Desktop\\\\Project\\\\chatbotuni\\\\scrapped_data\\\\About alumni.pdf', 'page': 0}),\n",
       " Document(page_content='Scraped Data\\nacquainted on recent technologies through the expertise of the Alumni. They are also invited to\\nserve as external project examiners for university examination.\\nCore committee :\\nVCET Alumni Association committee :\\nMenu\\nUseful Links\\nContact', metadata={'source': 'C:\\\\Users\\\\shett\\\\OneDrive\\\\Desktop\\\\Project\\\\chatbotuni\\\\scrapped_data\\\\About alumni.pdf', 'page': 1}),\n",
       " Document(page_content=\"Scraped Data\\nVidyavardhini's College Of Engineering & Technology, Vasai Road\\n??????????????? ???????????? ??? ?????????? ???????????, ??? ???\\n(Approved by AICTE, DTE Maharashtra and Affiliated to University of Mumbai)\\nNBA & NAAC Accredited\\nAbout VCET\\nHome»About VCET\\nVidyavardhini means a Body committed to enhancement of Knowledge. Vidyavardhini was\\nestablished as a registered society in 1970 by late Padmashri H. G. alias Bhausaheb Vartak for the\\nnoble cause of education in rural areas.\\nVidyavardhini?s College of Engineering and Technology, Vasai is located on the sprawling campus\\nof Vidyavardhini, spread over an area of 12.27 acres. It is a short, two minutes walk from Vasai\\nRoad (W) Railway Station. The college is also accessible by road from Mumbai.\\nVidyavardhini Society received approval from AICTE to start the new college of Engineering &\\nTechnology with effect from July, 1994. The college is affiliated to the University of Mumbai for the\\nfour year degree program leading to the degree of Bachelor of Engineering.\", metadata={'source': 'C:\\\\Users\\\\shett\\\\OneDrive\\\\Desktop\\\\Project\\\\chatbotuni\\\\scrapped_data\\\\About VCET.pdf', 'page': 0}),\n",
       " Document(page_content='Scraped Data\\nConvocation\\nConvocation 2021\\nGraduation is an exciting time. It marks both an ending and a beginning; it?s warm memories of the\\npast and big dreams for the future.\\n2021\\n2021\\n2021\\n2021\\n?Invited Talk with Start-up Founder? on 21 Aug 2021 time 3.00 pm to 5.00 pm.Link for Registration.\\nScholarship Facility\\nLorem ipsum dolor sit amet, consectetur adipiscing elit. Ut elit tellus, luctus nec ullamcorper mattis,\\npulvinar dapibus leo.', metadata={'source': 'C:\\\\Users\\\\shett\\\\OneDrive\\\\Desktop\\\\Project\\\\chatbotuni\\\\scrapped_data\\\\About VCET.pdf', 'page': 1}),\n",
       " Document(page_content='Scraped Data\\nSkilled Lecturers\\nLorem ipsum dolor sit amet, consectetur adipiscing elit. Ut elit tellus, luctus nec ullamcorper mattis,\\npulvinar dapibus leo.\\nBook Library & Store?\\nLorem ipsum dolor sit amet, consectetur adipiscing elit. Ut elit tellus, luctus nec ullamcorper mattis,\\npulvinar dapibus leo.\\nOur Skilled Teachers\\nJane Doe\\nAaida\\nAaren\\nKane\\nMenu\\nUseful Links', metadata={'source': 'C:\\\\Users\\\\shett\\\\OneDrive\\\\Desktop\\\\Project\\\\chatbotuni\\\\scrapped_data\\\\About VCET.pdf', 'page': 2}),\n",
       " Document(page_content='Scraped Data\\nContact', metadata={'source': 'C:\\\\Users\\\\shett\\\\OneDrive\\\\Desktop\\\\Project\\\\chatbotuni\\\\scrapped_data\\\\About VCET.pdf', 'page': 3}),\n",
       " Document(page_content=\"Scraped Data\\nVidyavardhini's College Of Engineering & Technology, Vasai Road\\n??????????????? ???????????? ??? ?????????? ???????????, ??? ???\\n(Approved by AICTE, DTE Maharashtra and Affiliated to University of Mumbai)\\nNBA & NAAC Accredited\\nArtificial Intelligence and Data Science\\nHome»Artificial Intelligence and Data Science\\nDr. Tatwadarshi NagarhalliAssociate Professor & Head Of DepartmentThe Department of Artificial\\nIntelligence and Data Science was established in 2020 to provide quality education in the emerging\\nfields of Artificial Intelligence and Data Science. Initially, the Department offered 30 seats in the first\\nacademic year for the Undergraduate Program (B.E.). However, in the following year (2021?22), the\\nintake was doubled, and currently there are 60 seats.The department aims to create an environment\\nfor the development and fostering of proficient artificial intelligence and data science engineers who\\nembody professionalism and civic responsibility. The department has young, dynamic, highly\\nqualified, and experienced faculty members, is equipped with the most modern software, and has\\nstate-of-the-art facilities for facilitating a coherent teaching-learning process.The Department\\nroutinely organizes a variety of activities on new technological developments in collaboration with\\nstudent chapters. The Department encourages students to participate in diverse IPR activities,\\nincluding writing research papers, copyrighting, and patenting. The Department works to ensure that\", metadata={'source': 'C:\\\\Users\\\\shett\\\\OneDrive\\\\Desktop\\\\Project\\\\chatbotuni\\\\scrapped_data\\\\AI&DS.pdf', 'page': 0}),\n",
       " Document(page_content='Scraped Data\\nstudents are developed holistically by establishing outcome-based education methods and placing a\\nregular emphasis on extracurricular and co-curricular activities like sports, cultural events, technical\\nevents, and student development programs in addition to the academic schedule.\\nDr. Tatwadarshi Nagarhalli\\nThe Department of Artificial Intelligence and Data Science was established in 2020 to provide quality\\neducation in the emerging fields of Artificial Intelligence and Data Science. Initially, the Department\\noffered 30 seats in the first academic year for the Undergraduate Program (B.E.). However, in the\\nfollowing year (2021?22), the intake was doubled, and currently there are 60 seats.\\nThe department aims to create an environment for the development and fostering of proficient\\nartificial intelligence and data science engineers who embody professionalism and civic\\nresponsibility. The department has young, dynamic, highly qualified, and experienced faculty\\nmembers, is equipped with the most modern software, and has state-of-the-art facilities for\\nfacilitating a coherent teaching-learning process.\\nThe Department routinely organizes a variety of activities on new technological developments in\\ncollaboration with student chapters. The Department encourages students to participate in diverse\\nIPR activities, including writing research papers, copyrighting, and patenting. The Department works\\nto ensure that students are developed holistically by establishing outcome-based education\\nmethods and placing a regular emphasis on extracurricular and co-curricular activities like sports,\\ncultural events, technical events, and student development programs in addition to the academic\\nschedule.', metadata={'source': 'C:\\\\Users\\\\shett\\\\OneDrive\\\\Desktop\\\\Project\\\\chatbotuni\\\\scrapped_data\\\\AI&DS.pdf', 'page': 1}),\n",
       " Document(page_content='Scraped Data\\nVisionTo foster proficient artificial intelligence and data science professionals, makingremarkable\\ncontributions to industry and society.MissionTo encourage innovation and creativity with rational\\nthinking for solving the challenges in emerging areas.To inculcate standard industrial practices and\\nsecurity norms while dealing with DataTo develop sustainable Artificial Intelligence systems for the\\nbenefit of various sectors.\\nVision\\nMission\\nDepartmental Advisory Board (DAB)Following are the members of the committee starting from\\n2022-23.SR.NO.NAME OF THE MEMBERDESIGNATIONORGANIZATIONROLE IN DAB1Dr.\\nHarish\\nVankudrePrincipalVCET, VasaiChairman2Dr. Vikas GuptaDean AcademicsVCET, VasaiDean3Dr.\\nTattwadarshi  P. N.HOD, AI-DSVCET Vasai.HOD4Mrs. Sejal D?melloDeputy HODVCET,\\nVasaiSecretary5Mrs. Sneha YadavAssistant ProfessorVCET, VasaiFaculty\\nRepresentative6Ms. Neha RautAssistant ProfessorVCET, VasaiFaculty Representative7Ms.\\nVibhavari NagarhalliDirector & Head Sales for insurance in India GeographyTCSIndustry\\nRepresentative8Mr. Roshan ShettyCEOCitiusCloud Services LLPIndustry Representative9Ms.\\nPayal DoshiDirectorPrime Softech Solutions Pvt. LtdIndustry Representative10Mr. Akshay\\nBharambeCEO, FounderParkingPalIndustry Representative11Mr. Narendra ShekokarProfessor,\\nHOD, IOT & Cyber Security DepartmentDwarkadas J. Sangavi College of EngineeringAcademic', metadata={'source': 'C:\\\\Users\\\\shett\\\\OneDrive\\\\Desktop\\\\Project\\\\chatbotuni\\\\scrapped_data\\\\AI&DS.pdf', 'page': 2}),\n",
       " Document(page_content='Scraped Data\\nRepresentative12Mrs. Alka AroraParentVCET, VasaiParent\\nRepresentative\\nDepartmental Advisory Board (DAB)\\nProgram Outcomes (POs):1. Engineering knowledge: Apply the knowledge of mathematics, science,\\nengineering fundamentals, and an engineering specialization to the solution of complex engineering\\nproblems.2. Problem analysis: Identify, formulate, review research literature, and analyze complex\\nengineering problems reaching substantiated conclusions using first principles of mathematics,\\nnatural sciences, and engineering sciences.3. Design/development of solutions: Design solutions for\\ncomplex engineering problems and design system components or processes that meet the specified\\nneeds with appropriate consideration for the public health and safety, and the cultural, societal, and\\nenvironmental considerations.4. Conduct investigations of complex problems: Use research-based\\nknowledge and research methods including design of experiments, analysis and interpretation of\\ndata, and synthesis of the information to provide valid conclusions.5. Modern tool usage: Create,\\nselect, and apply appropriate techniques, resources, and modern engineering and IT tools including\\nprediction and modeling to complex engineering activities with an understanding of the\\nlimitations.6.The engineer and society: Apply reasoning informed by contextual knowledge to assess\\nsocietal, health, safety, legal and cultural issues and the consequent responsibilities relevant to\\nprofessional engineering practice.7. Environment and sustainability: Understand the impact of\\nprofessional engineering solutions in societal and environmental contexts, and demonstrate the\\nknowledge of, and need for sustainable development.8. Ethics: Apply ethical principles and commit\\nto professional ethics and responsibilities and norms of engineering practice.9. Individual and\\nteamwork: Function effectively as an individual, and as a member or leader in diverse teams, and in', metadata={'source': 'C:\\\\Users\\\\shett\\\\OneDrive\\\\Desktop\\\\Project\\\\chatbotuni\\\\scrapped_data\\\\AI&DS.pdf', 'page': 3}),\n",
       " Document(page_content='Scraped Data\\nmultidisciplinary settings.10. Communication: Communicate effectively on complex engineering\\nactivities with the engineering community and with society at large, such as, being able to\\ncomprehend and write effective reports and design documentation, make effective presentations,\\nand give and receive clear instructions.11. Project management and finance: Demonstrate\\nknowledge and understanding of the engineering and management principles and apply these to\\none?s own work, as a member and leader in a team, to manage projects and in multidisciplinary\\nenvironments.12. Life-long learning: Recognize the need for and have the preparation and ability to\\nengage in independent and life-long learning in the broadest context of technological\\nchange.Program Educational Objectives (PEOs):Program Specific Outcomes (PSOs):Graduates will\\nbe able to,1. Analyze the current trends in the field of Artificial Intelligence & Data Science and\\ncontribute to the technological advancements by presenting / publishing at national / international\\nforums.2. Design and develop Artificial Intelligence & Data Science applications and solutions in\\nvarious domains to cater to the needs of industry and society.\\nProgram Outcomes (POs):\\nProgram Educational Objectives (PEOs):\\nProgram Specific Outcomes (PSOs):\\nDr. Tatwadarshi NagarhalliAssociate Professor & Head Of\\nDepartmenthod_aids@vcet.edu.intatwadarshi.nagarhalli@vcet.edu.inMs. Sejal  D?melloDeputy\\nHOD & Asst. Prof.sejal.dmello@vcet.edu.inMrs. Sneha YadavAsst.\\nProf.sneha.yadav@vcet.edu.inMs. Neha RautAsst. Prof.neha.raut@vcet.edu.inMs. Bhavika', metadata={'source': 'C:\\\\Users\\\\shett\\\\OneDrive\\\\Desktop\\\\Project\\\\chatbotuni\\\\scrapped_data\\\\AI&DS.pdf', 'page': 4}),\n",
       " Document(page_content='Scraped Data\\nGharatAsst. Prof.bavika.gharat@vcet.edu.inMs. Kshitija GharatAsst. Prof.kshitija\\n.gharat@vcet.edu.inMr.Raunak JoshiAsst. Prof.raunak .joshi@vcet.edu.inMs. Rujuta VartakAsst.\\nProf.rujuja.vartak@vcet.edu.inMs. Sweety PatilAsst.Prof.sweety.patil@vcet.edu.in\\nDr. Tatwadarshi Nagarhalli\\nAssociate Professor & Head Of Department\\nhod_aids@vcet.edu.in\\ntatwadarshi.nagarhalli@vcet.edu.in\\nMs. Sejal  D?mello\\nDeputy HOD & Asst. Prof.\\nsejal.dmello@vcet.edu.in\\nMrs. Sneha Yadav\\nAsst. Prof.\\nMs. Neha Raut', metadata={'source': 'C:\\\\Users\\\\shett\\\\OneDrive\\\\Desktop\\\\Project\\\\chatbotuni\\\\scrapped_data\\\\AI&DS.pdf', 'page': 5}),\n",
       " Document(page_content='Scraped Data\\nAsst. Prof.\\nMs. Bhavika Gharat\\nAsst. Prof.\\nbavika.gharat@vcet.edu.in\\nMs. Kshitija Gharat\\nAsst. Prof.\\nkshitija .gharat@vcet.edu.in\\nMr.Raunak Joshi\\nAsst. Prof.\\nraunak .joshi@vcet.edu.in\\nMs. Rujuta Vartak\\nAsst. Prof.', metadata={'source': 'C:\\\\Users\\\\shett\\\\OneDrive\\\\Desktop\\\\Project\\\\chatbotuni\\\\scrapped_data\\\\AI&DS.pdf', 'page': 6}),\n",
       " Document(page_content='Scraped Data\\nrujuja.vartak@vcet.edu.in\\nMs. Sweety Patil\\nAsst.Prof.\\nsweety.patil@vcet.edu.in\\nStudent Achievements\\nSETE1. Dnyanesh panchal ? 10 SGPI1. JHA DEVHARSH JAGDANAND- 9.64  SGPI2. Priyanka\\nbhandari -9.87 SGPI2. MAURYA HEMANI RAMAKANT- 9.45 SGPI2. SINGH NEHA VINOD- 9.45\\nSGPI3. Mohammed Ali Jaffari -9.3\\nSGPI3. SHETTY AMULYA CHANDAYYA-9.36SGPI\\nSYLLABUS\\nRevised 2019-20 :SESYLLABUS\\nRevised 2019-20 :TESYLLABUS\\nRevised 2019-20 :BEHonors & Minor Degree Program:TEPO PSO COR19\\nSYLLABUS\\nRevised 2019-20 :\\nSYLLABUS', metadata={'source': 'C:\\\\Users\\\\shett\\\\OneDrive\\\\Desktop\\\\Project\\\\chatbotuni\\\\scrapped_data\\\\AI&DS.pdf', 'page': 7}),\n",
       " Document(page_content='Scraped Data\\nRevised 2019-20 :\\nSYLLABUS\\nRevised 2019-20 :\\nHonors & Minor Degree Program:\\nPO PSO CO\\nCopyrights\\n :Copyrights\\nCopyrights\\n :\\nInnovation in Teaching Learning :Year  2023-24 (Odd)Year  2022-23 (Odd)Year  2022-23 (Even)\\nInnovation in Teaching Learning :\\nMoU :MoU List\\nMoU :\\nMagazineTECHZETTENewsletterNEWSLETTER (EVEN SEM 2024)', metadata={'source': 'C:\\\\Users\\\\shett\\\\OneDrive\\\\Desktop\\\\Project\\\\chatbotuni\\\\scrapped_data\\\\AI&DS.pdf', 'page': 8}),\n",
       " Document(page_content='Scraped Data\\nMagazine\\nNewsletter\\nMenu\\nUseful Links\\nContact', metadata={'source': 'C:\\\\Users\\\\shett\\\\OneDrive\\\\Desktop\\\\Project\\\\chatbotuni\\\\scrapped_data\\\\AI&DS.pdf', 'page': 9}),\n",
       " Document(page_content=\"Scraped Data\\nVidyavardhini's College Of Engineering & Technology, Vasai Road\\n??????????????? ???????????? ??? ?????????? ???????????, ??? ???\\n(Approved by AICTE, DTE Maharashtra and Affiliated to University of Mumbai)\\nNBA & NAAC Accredited\\nAIRNOVA\\nHome»AIRNOVA\\nTeam Airnova is the official Aeronautics & Aerospace team of Vidyavardhini?s College of\\nEngineering & Technology; the main motto of the team is to spread awareness about Technological\\nadvancements in the Aviation and Spacecraft sector. The team was established in 2019 and made\\nan official part of the college in 2020. Since then, despite the lockdown, Team Airnova has been\\nconducting research on RC Aircrafts, UAVs and Spacecrafts. The team functions under the\\nguidance of our faculty in-charge Prof. Apurva Pendbhaje and along with them has had support from\\nour other college faculties.The team provides a platform for all engineering students to come\\ntogether and design, manufacture RC Aircrafts and UAVs to participate in competitions regarding\\nthe designing of UAVs & Aircrafts that can be implemented in the industry with regards to recent\\ndevelopments. Despite having a lockdown imposed post the formation, the team has participated in\\nseveral competitions in this time.\", metadata={'source': 'C:\\\\Users\\\\shett\\\\OneDrive\\\\Desktop\\\\Project\\\\chatbotuni\\\\scrapped_data\\\\airnova.pdf', 'page': 0}),\n",
       " Document(page_content='Scraped Data\\nTeam Airnova is the official Aeronautics & Aerospace team of Vidyavardhini?s College of\\nEngineering & Technology; the main motto of the team is to spread awareness about Technological\\nadvancements in the Aviation and Spacecraft sector. The team was established in 2019 and made\\nan official part of the college in 2020. Since then, despite the lockdown, Team Airnova has been\\nconducting research on RC Aircrafts, UAVs and Spacecrafts. The team functions under the\\nguidance of our faculty in-charge Prof. Apurva Pendbhaje and along with them has had support from\\nour other college faculties.\\nThe team provides a platform for all engineering students to come together and design, manufacture\\nRC Aircrafts and UAVs to participate in competitions regarding the designing of UAVs & Aircrafts\\nthat can be implemented in the industry with regards to recent developments. Despite having a\\nlockdown imposed post the formation, the team has participated in several competitions in this time.\\nVisionTo provide an opportunity to learn more about Aeronautics, Aerospace industrial aspects and\\napply them to provide industrial solutions at national and international events.MissionTo research\\nand learn about different technological developments in the aeronautics and aerospace industry.\\nVision\\nMission\\nObjectives :To design aerodynamically efficient, structurally agile UAVs.To innovate and experiment', metadata={'source': 'C:\\\\Users\\\\shett\\\\OneDrive\\\\Desktop\\\\Project\\\\chatbotuni\\\\scrapped_data\\\\airnova.pdf', 'page': 1}),\n",
       " Document(page_content='Scraped Data\\nnew methods of fabricating UAVs.To design an electrically sound propulsion system to lessen the\\nimpact on the environment.\\nObjectives :\\nAerodominator 7.0 2020:Aerodominator 7.0 is a national level aero design competition brought to\\nyou by SAE-VIT. This micro class aero design competition has the main aim of designing and\\nmanufacturing an aircraft capable of carrying high payloads within a set of constraints.MSSA?s\\nIPASC 2021:The International Planetary Aerial Systems (IPAS) Challenge is a competition for\\nuniversity students to design a Mars Aerial System (Vehicle) which shall be fully equipped and\\nmission ready for Operation on Mars. Teams are supposed to carefully plan each subsystem of the\\nAerial System considering various extra-terrestrial parameters in design (Exceptions if any shall be\\nmentioned). This competition is designed for students to explore their mind and spark the innovative\\ndesign thinking of Individuals without putting any constraints on available physical resources.\\nStudents are encouraged to be as imaginative, creative and insightful as possible within practical\\nimplementable limits for the human race.AirnovaAirnovaAirnovaAerodominator 7.0 (virtual)\\n2020MSSA?s Interplanetary Aerial Systems Challenge 2021 (virtual)Gesture Controlled drone\\nproject16th (AIR)Rank 21 WorldwideResearch ProjectVaayuvaidyaDhairyaComing soon\\nAerodominator 7.0 2020:Aerodominator 7.0 is a national level aero design competition brought to\\nyou by SAE-VIT. This micro class aero design competition has the main aim of designing and\\nmanufacturing an aircraft capable of carrying high payloads within a set of constraints.\\nMSSA?s IPASC 2021:The International Planetary Aerial Systems (IPAS) Challenge is a competition', metadata={'source': 'C:\\\\Users\\\\shett\\\\OneDrive\\\\Desktop\\\\Project\\\\chatbotuni\\\\scrapped_data\\\\airnova.pdf', 'page': 2}),\n",
       " Document(page_content='Scraped Data\\nfor university students to design a Mars Aerial System (Vehicle) which shall be fully equipped and\\nmission ready for Operation on Mars. Teams are supposed to carefully plan each subsystem of the\\nAerial System considering various extra-terrestrial parameters in design (Exceptions if any shall be\\nmentioned). This competition is designed for students to explore their mind and spark the innovative\\ndesign thinking of Individuals without putting any constraints on available physical resources.\\nStudents are encouraged to be as imaginative, creative and insightful as possible within practical\\nimplementable limits for the human race.\\nAll of the events were financially managed by members of the team with support from our college\\nproviding reimbursements.\\nFaculty In ChargeProf. -Vishwas Palve-Vishwas Palve @vcet.edu.in+91 9870300102Team Airnova \\n3.0           \\n:Sr. no.NameContactPost1.Rishabh Tripathi9369744734Captain2.Prajjwal\\nVishwakarma8108269351Vice ? Captain3.Atharva Vaidya7507094765Team Manager4.Kshitij\\nShetty9284294433Head of Aerodynamics5.Umesh Mourya9021379849Head of Structure6.Kunal\\nSharma8605902057Head of Propulsion7.Gautham Kuckian8369483349Head of R&D8.Ved\\nPatil7776093444Head of Documentation9.Pranay Gore9619220898Head of Finance10.Raj\\nSutar9004720324Head of Social Media11.Mitali Salve8425914589Member of\\nAerodynamics12.Taher Barwaniwala8238544856Member of Aerodynamics13.Anant\\nRai7400399737Member of Aerodynamics14.Abhigya Hazra9604297830Member of\\nAerodynamics15.Advait Tembvalkar9273152409Member of Structure16.Ved\\nPatil7776093444Member of Structure17.Shreeyash Dadhekar9834825779Member of\\nStructure18.Ojas  Sawant7304540939Member of Structure19.Rahul Shah8554807653Member of', metadata={'source': 'C:\\\\Users\\\\shett\\\\OneDrive\\\\Desktop\\\\Project\\\\chatbotuni\\\\scrapped_data\\\\airnova.pdf', 'page': 3}),\n",
       " Document(page_content='Scraped Data\\nPropulsion20.Mihir Hakani7888250785Member of Propulsion21.Vishal Sahani9819107789Member\\nof Propulsion22.Tushar Gawali7028610722Member of Propulsion23.Onkar\\nSuryavanshi9834791693Member of Propulsion24.Hirenkumar Vyas7400142387Member of\\nR&D25.Pratham Ingawale8104339869Member of  R&D26.Harshkumar\\nDevmurari8793702047Member of R&D27.Kshitij Sonawane9766028021Member of R&D28.Harshal\\nBhamare9970536201Member of R&D29.Saurabh Rana9881614757Member of R&D30.Mihir\\nGosavi8806675142Member of R&D31.Pradip Pal8928998530Member of R&D32.Prathamesh\\nThakare9665515996Member of R&D33Saurabh Shukla7021621470Member of R&D34Sanika\\nPatil8806056269Member of Finance & Marketing35.Richa Patel9372929636Member of Finance &\\nMarketing36.Nikita Mundaye9326450374Member of Finance & Marketing37.Shreenand\\nPandere7977854715Member of Finance & Marketing38.Pranay Gore9619220898Member of\\nFinance & Marketing39.Siddhesh Jalgaonkar9370322818Member of Finance & Marketing40.Raj\\nSutar9004720324Member of Finance & Marketing\\nFaculty In Charge\\nProf. -Vishwas Palve\\nTeam Airnova  3.0           \\n:\\nAddressVidyavardhini?s College of Engineering and Technology (VCET)K.T. Marg Vasai West.\\n401202Prof. Vishwas Palve+91 9870300102Ayush Panchal+91 84229 89037Aditya Patane+91\\n88792', metadata={'source': 'C:\\\\Users\\\\shett\\\\OneDrive\\\\Desktop\\\\Project\\\\chatbotuni\\\\scrapped_data\\\\airnova.pdf', 'page': 4}),\n",
       " Document(page_content='Scraped Data\\n13394team.airnova.vcetofficial@gmail.comwww.instagram.com/team_airnova/www.linkedin.com/co\\nmpany/team-airnova-1\\nAddress\\nProf. Vishwas Palve\\n+91 9870300102\\nMenu\\nUseful Links\\nContact', metadata={'source': 'C:\\\\Users\\\\shett\\\\OneDrive\\\\Desktop\\\\Project\\\\chatbotuni\\\\scrapped_data\\\\airnova.pdf', 'page': 5}),\n",
       " Document(page_content=\"Scraped Data\\nVidyavardhini's College Of Engineering & Technology, Vasai Road\\n??????????????? ???????????? ??? ?????????? ???????????, ??? ???\\n(Approved by AICTE, DTE Maharashtra and Affiliated to University of Mumbai)\\nNBA & NAAC Accredited\\nAlumni Meets\\nHome»Alumni meets\\nReport on Alumni Meet- 2023\\nEvent: Alumni Meet-2023Objectives:? An excellent opportunity for former students to reconnect,\\nnetwork, and give back to their alma mater.? Provides a chance for alumni to stay connected with\\ntheir educational institution and contribute to its growth and development.\\nDescription:On February 4th, 2023, the Alumni Association of Vidyavardhini?s College of\\nEngineering and Technology hosted the ?ALUMNI MEET 2023? to bring together and connect\\nformer students. The occasion was especially significant as it marked the silver jubilee year of the\\n1998 batch. The presence of 465 alumni from the MECH, EXTC, Computer, IT, Civil, and INST\\ndepartments was noted. The meeting began at 5:30 pm, with alumni receiving a warm welcome at\\nthe registration counter with a small gift. They then visited their respective departments to interact\", metadata={'source': 'C:\\\\Users\\\\shett\\\\OneDrive\\\\Desktop\\\\Project\\\\chatbotuni\\\\scrapped_data\\\\Alumni Meets.pdf', 'page': 0}),\n",
       " Document(page_content='Scraped Data\\nwith their former professors.\\nFunction began at 7 pm with Saraswati Vandana. Welcome speech was addressed by alumni\\nassociation co-ordinator, Mrs. Kanchan Sarmalkar. Dean Alumni, Dr. Archana Ekbote appealed to\\nall alumni to help, nurture, encourage their juniors so that the academics and the real world outside\\ncan grow together hand in hand. Principal Dr. Harish Vankudre emphasized the importance of\\nindustry-institution interaction and its significance for the future. The Dean Academics Dr. Vikas\\nGupta presented the current academic performance of the students, while the Training and\\nPlacement officer Mr. Prafulla Patil updated the alumni on the current VCET campus scenarios and\\nplacements.\\nThe Silver Jubilee 1998 batch alumni were honored during the event, with some of them expressing\\ntheir gratitude towards the professors who taught them and their appreciation for the tremendous\\ninfrastructural development they saw. The gathering also enjoyed some cultural shows before a\\ndinner was arranged for the alumni, and the event ended smoothly. The alumni expressed their\\ngratitude for the successful arrangement and promised to attend future meetings.\\nDr Archana Ekbote\\nDean Alumni, VCET.\\nVCET Alumni Association Report of Virtual Alumni Meet 2021', metadata={'source': 'C:\\\\Users\\\\shett\\\\OneDrive\\\\Desktop\\\\Project\\\\chatbotuni\\\\scrapped_data\\\\Alumni Meets.pdf', 'page': 1}),\n",
       " Document(page_content='Scraped Data\\nDr. Swapna Borde\\nDean Alumni, VCET.\\nVCET Alumni Association Report of Alumni Meet - December 2019\\nMs. Kanchan Sarmalkar\\nCo-ordinator, VCET Alumni association\\nVCET Alumni Association Report of Alumni Meet - February 2019\\nMs. Kanchan Sarmalkar\\nCo-ordinator, VCET Alumni association\\nVCET Alumni Association Report of Alumni Meet 2018\\nMs. Kanchan Sarmalkar\\nCo-ordinator, VCET Alumni association\\nVCET Alumni Association Report of Alumni Meet 2017', metadata={'source': 'C:\\\\Users\\\\shett\\\\OneDrive\\\\Desktop\\\\Project\\\\chatbotuni\\\\scrapped_data\\\\Alumni Meets.pdf', 'page': 2}),\n",
       " Document(page_content='Scraped Data\\nMs. Kanchan Sarmalkar\\nCo-ordinator, VCET Alumni association\\nVCET Alumni Association Report of Alumni Meet 2014\\nMs. Kanchan Sarmalkar\\nCo-ordinator, VCET Alumni association\\nMenu\\nUseful Links\\nContact', metadata={'source': 'C:\\\\Users\\\\shett\\\\OneDrive\\\\Desktop\\\\Project\\\\chatbotuni\\\\scrapped_data\\\\Alumni Meets.pdf', 'page': 3}),\n",
       " Document(page_content=\"Scraped Data\\nVidyavardhini's College Of Engineering & Technology, Vasai Road\\n??????????????? ???????????? ??? ?????????? ???????????, ??? ???\\n(Approved by AICTE, DTE Maharashtra and Affiliated to University of Mumbai)\\nNBA & NAAC Accredited\\nUpcoming Events\\n25th Jul2024IPR Seminar01st Jul2024Application Development on PT-51 Microcontroller using\\nEmbedded C24th Jun2024Power BI STTP06th Apr2024VNPS?2405th Apr2024Oscillations?2415th\\nMar2024CODE CRAZE 2415th Mar2024TechBlitz Challenge01st Mar2024Expert Talk on ?POWER\\nBI?15th Jan2024Avahan 202420th Oct2023IETE webinar19th Oct202319th & 20th October 2023:\\nWorkshop on ?Introduction to Robotics? conducted by e-Yantra , IIT Bombay26th\\nSep2023Code-O-Fiesta 202306th Oct2023VCET Hackathon 202315th Sep2023Product ShowCase\\n202306th Oct2023Hackathon?2317th Aug2023?Welcome Godrej Infotech for BE placement?s\\nBatch-2024?\\n25th Jul\\n2024\\n01st Jul\", metadata={'source': 'C:\\\\Users\\\\shett\\\\OneDrive\\\\Desktop\\\\Project\\\\chatbotuni\\\\scrapped_data\\\\approved by AICTE .pdf', 'page': 0}),\n",
       " Document(page_content='Scraped Data\\n2024\\n24th Jun\\n2024\\n06th Apr\\n2024\\n05th Apr\\n2024\\n15th Mar\\n2024\\n15th Mar\\n2024\\n01st Mar', metadata={'source': 'C:\\\\Users\\\\shett\\\\OneDrive\\\\Desktop\\\\Project\\\\chatbotuni\\\\scrapped_data\\\\approved by AICTE .pdf', 'page': 1}),\n",
       " Document(page_content='Scraped Data\\n2024\\n15th Jan\\n2024\\n20th Oct\\n2023\\n19th Oct\\n2023\\n26th Sep\\n2023\\n06th Oct\\n2023\\n15th Sep', metadata={'source': 'C:\\\\Users\\\\shett\\\\OneDrive\\\\Desktop\\\\Project\\\\chatbotuni\\\\scrapped_data\\\\approved by AICTE .pdf', 'page': 2}),\n",
       " Document(page_content='Scraped Data\\n2023\\n06th Oct\\n2023\\n17th Aug\\n2023\\nPlacements\\n258\\n2016-17\\n299\\n320\\n2018-19\\n263', metadata={'source': 'C:\\\\Users\\\\shett\\\\OneDrive\\\\Desktop\\\\Project\\\\chatbotuni\\\\scrapped_data\\\\approved by AICTE .pdf', 'page': 3}),\n",
       " Document(page_content='Scraped Data\\n2019-20\\n305\\n2020-21\\n383\\n2021-22\\n264\\n2022-23\\nRecruiters\\nRemarkable Acheivements\\nFirst prize and won 10 prizes at different category at Solar EV Championship 2022 Hindusthan\\nCollege Of Enng. Coimbatore.\\nWinner Team Softracker IT- VCET\\nAll India Inter University Mallakhamb (Women) at SGV University Jaipur', metadata={'source': 'C:\\\\Users\\\\shett\\\\OneDrive\\\\Desktop\\\\Project\\\\chatbotuni\\\\scrapped_data\\\\approved by AICTE .pdf', 'page': 4}),\n",
       " Document(page_content='Scraped Data\\n11th Rank at Quad Bike Design Challenge, Hyderabad\\nGrand Finalists team at Smart India Hackathon 2022,Puducherry.\\nin Mumbai University Intercollegiate Powerlifting Tournament!!i\\nSilver Medal Mumbai Suburban Zone II\\n1st Prize in National Project Competition, Mumbai\\n1st Prize in National Project Competition, Mumbai\\n1. Jatin Vira\\n2. Devang Chauhan\\n3. Sagar Kadam \\n4. Kunal Shinde\\nFirst prize at TECHOTSAV 2022 organized by Datta Meghe College of Engineering Navi Mumbai\\n1. Shridhar Kashalkar \\n2. Rohan Kamble\\n3. Nishant Patil\\n4. Vaibhavi Murkar\\n First prize at TECH EXPO 2022 organized by Pravara Rural Engineering College, Loni', metadata={'source': 'C:\\\\Users\\\\shett\\\\OneDrive\\\\Desktop\\\\Project\\\\chatbotuni\\\\scrapped_data\\\\approved by AICTE .pdf', 'page': 5}),\n",
       " Document(page_content='Scraped Data\\nwas presented with Edutech Leadership Award at 11th World Education Congress.\\nfor receiving  Grant of Rs 1 lakh form AICTE under SPICES\\nProject-Optimized WiFi based Control System for Pond Aerators in Shrimp Farming.\\nInstallation of Short-Range X-Band Polarimetric Scanning Doppler Weather Radar at VCET.\\nin Mumbai Suburban Zone. inter Collegiate Sports Competition.(Mallakhamb)\\nfor selection as Officer Short Service Commission (SSC).\\nExplore Us\\nVideo\\nNIRF\\nERP Portal\\nConvocation\\nGallery', metadata={'source': 'C:\\\\Users\\\\shett\\\\OneDrive\\\\Desktop\\\\Project\\\\chatbotuni\\\\scrapped_data\\\\approved by AICTE .pdf', 'page': 6}),\n",
       " Document(page_content='Scraped Data\\nIndustry Sponsored Lab\\nCenter of Excellence\\nMachinery Diagnostics\\nTexas Instruments Innovation Lab\\nRobotics\\nSiemens\\ne-Yantra\\nTestimonials\\nMenu\\nUseful Links\\nContact\\nAdmission Enquiry for B.E. Courses (4 years UG course) A.Y. 2024-25', metadata={'source': 'C:\\\\Users\\\\shett\\\\OneDrive\\\\Desktop\\\\Project\\\\chatbotuni\\\\scrapped_data\\\\approved by AICTE .pdf', 'page': 7}),\n",
       " Document(page_content='Scraped Data\\nAdmission Enquiry for M.E. Course (2 years PG course) A.Y. 2024-25\\nAdmission Enquiry for M.M.S. Course (2 years PG course) A.Y. 2024-25', metadata={'source': 'C:\\\\Users\\\\shett\\\\OneDrive\\\\Desktop\\\\Project\\\\chatbotuni\\\\scrapped_data\\\\approved by AICTE .pdf', 'page': 8}),\n",
       " Document(page_content=\"Scraped Data\\nVidyavardhini's College Of Engineering & Technology, Vasai Road\\n??????????????? ???????????? ??? ?????????? ???????????, ??? ???\\n(Approved by AICTE, DTE Maharashtra and Affiliated to University of Mumbai)\\nNBA & NAAC Accredited\\nBest Practices And Institutional Distinctiveness\\nHome»Best Practices And Institutional Distinctiveness\\nMenu\\nUseful Links\\nContact\", metadata={'source': 'C:\\\\Users\\\\shett\\\\OneDrive\\\\Desktop\\\\Project\\\\chatbotuni\\\\scrapped_data\\\\Best Practices And Institutional Distinctiveness.pdf', 'page': 0}),\n",
       " Document(page_content=\"Scraped Data\\nVidyavardhini's College Of Engineering & Technology, Vasai Road\\n??????????????? ???????????? ??? ?????????? ???????????, ??? ???\\n(Approved by AICTE, DTE Maharashtra and Affiliated to University of Mumbai)\\nNBA & NAAC Accredited\\nCENTURION\\nHome»CENTURION\\nVision\\nMission\\nObjectives :\\nFaculty In ChargeMr. Kamlesh  Bachkarkamlesh.bachkar@vcet.edu.in+919890852702Team\\nCenturian   5.0\\n:Team MembersPositionSubsystemOmkar HatkarTeam CaptainChassisAkansha KariyaVice\\nCaptainManagementOmkar GoruleMemberVehicle DynamicsRushabh JadhavMemberPower\\nTransmissionHeramb ShindeMemberBrakingReuben NoronhaMemberPower TransmissionKrupesh\\nBhoirMemberElectricalRohit GorivaleMemberSteeringTanvi KadamMemberManagementDhruv\", metadata={'source': 'C:\\\\Users\\\\shett\\\\OneDrive\\\\Desktop\\\\Project\\\\chatbotuni\\\\scrapped_data\\\\CENTURION.pdf', 'page': 0}),\n",
       " Document(page_content='Scraped Data\\nKotianMemberPower TransmissionShravan ChaudharyMemberChassisSoorya\\nGuddemaneMemberSocial Media HandlingDeep PatelMemberDriver\\nFaculty In Charge\\nMr. Kamlesh  Bachkar\\n+919890852702\\nTeam Centurian   5.0\\n:\\nAddress\\nMr. Kamlesh Bachkar\\n+91 9890852702\\nMr. Omkar Hatkar', metadata={'source': 'C:\\\\Users\\\\shett\\\\OneDrive\\\\Desktop\\\\Project\\\\chatbotuni\\\\scrapped_data\\\\CENTURION.pdf', 'page': 1}),\n",
       " Document(page_content='Scraped Data\\n+91 9764050936\\nAkansha Kariya\\n+91 7083975485\\nEvent Videos\\nMenu\\nUseful Links\\nContact', metadata={'source': 'C:\\\\Users\\\\shett\\\\OneDrive\\\\Desktop\\\\Project\\\\chatbotuni\\\\scrapped_data\\\\CENTURION.pdf', 'page': 2}),\n",
       " Document(page_content=\"Scraped Data\\nVidyavardhini's College Of Engineering & Technology, Vasai Road\\n??????????????? ???????????? ??? ?????????? ???????????, ??? ???\\n(Approved by AICTE, DTE Maharashtra and Affiliated to University of Mumbai)\\nNBA & NAAC Accredited\\nCollege Development Committee\\nHome»College Development Committee\\nMenu\\nUseful Links\\nContact\", metadata={'source': 'C:\\\\Users\\\\shett\\\\OneDrive\\\\Desktop\\\\Project\\\\chatbotuni\\\\scrapped_data\\\\College Development Committee.pdf', 'page': 0}),\n",
       " Document(page_content=\"Scraped Data\\nVidyavardhini's College Of Engineering & Technology, Vasai Road\\n??????????????? ???????????? ??? ?????????? ???????????, ??? ???\\n(Approved by AICTE, DTE Maharashtra and Affiliated to University of Mumbai)\\nNBA & NAAC Accredited\\nComputer Engineering\\nHome»Computer Engineering\\nThe Department of Computer Engineering was established in the year 1999 to impart knowledge\\nand develop practical skills in various areas of computer engineering. The Department offers an\\nundergraduate program in Computer Engineering with a current intake of 180 seats. The\\nDepartment was accredited by the National Board of Accreditation (NBA) from 2012?2015,\\nreaccredited from July 2022 to June 2025, and is permanently affiliated with the University of\\nMumbai.\\nThe Department has expert and well-trained human resources and state-of-the-art laboratories to\\nimpart domain-specific knowledge in the areas of programming, database management, operating\\nsystems, web development, networking, artificial intelligence, machine learning, deep learning, etc.\\nThe faculty uses various instructional pedagogies, innovative techniques, and ICT tools to enhance\\nthe teaching-learning process.\", metadata={'source': 'C:\\\\Users\\\\shett\\\\OneDrive\\\\Desktop\\\\Project\\\\chatbotuni\\\\scrapped_data\\\\Computer Engineering.pdf', 'page': 0}),\n",
       " Document(page_content='Scraped Data\\nThe Department motivates its students to participate in co-curricular and extra-curricular activities\\nessential for the development and nurturing of team spirit and organizational skills. The Department\\nis associated with the Computer Society of India (CSI). The Department has a local Code-chef\\nchapter, Bit-Byte-Go, which provides a peer learning platform to develop coding skills. The\\nDepartment also has a student-driven Android Application Development Club, a Meta-Club, and a\\nMicrosoft Learn Students Club to foster peer learning and skill development in the respective areas.\\nThe Department publishes a newsletter, an e-magazine, and a wall magazine designed by students,\\nwhich encompasses articles contributed by students and faculty. Various self-learning opportunities\\nare provided to the students through platforms such as e-Yantra Robotics Laboratory (in association\\nwith IIT Bombay), Virtual Laboratory, Infosys Springboard, Swayam, etc. The Department\\nencourages students for various IPR activities such as publications, copyrights, and patents. The\\nDepartment provides placement and higher studies support through various guidance sessions.\\nThe Department provides various opportunities for the students to get industrial exposure through\\ninternships, guest lectures, seminars, workshops, industrial projects, product development, and\\nactivities through Memorandums of Understanding (MoU).\\nThe Department has sound alumni connections through various social media and professional\\nplatforms.\\nVisionTo evolve as a center of excellence in the field of Computer Engineering to cater the industrial\\n& societal needs.MissionTo provide quality technical education with the aid of modern resources.To', metadata={'source': 'C:\\\\Users\\\\shett\\\\OneDrive\\\\Desktop\\\\Project\\\\chatbotuni\\\\scrapped_data\\\\Computer Engineering.pdf', 'page': 1}),\n",
       " Document(page_content='Scraped Data\\ninculcate creative thinking through innovative ideas and project development.To encourage Life-long\\nlearning, leadership skills, entrepreneur skills with ethical & moral values.\\nVision\\nMission\\nThe composition of the PAQIC for the Department of Computer Engineering is as follows:\\nMembers:\\nFrequency Of Meeting:\\nRoles and responsibilities:\\nDepartmental Advisory Board (DAB)The Departmental Advisory Board (DAB) has been formed with\\nthe purpose of remaining up to date with the latest requirements of the industry, academics and\\nincorporating necessary components in the curricular and extracurricular activities.The DAB is\\ncomposed of representative members from eminent institutions, industry, alumni, parents, students\\nand faculty of the department.Following are the members of the committee for three consecutive\\nacademic year starting from 2021-22.SR.NO.NAME OF THE\\nMEMBERDESIGNATIONORGANIZATIONROLE IN DAB1Dr. Harish', metadata={'source': 'C:\\\\Users\\\\shett\\\\OneDrive\\\\Desktop\\\\Project\\\\chatbotuni\\\\scrapped_data\\\\Computer Engineering.pdf', 'page': 2}),\n",
       " Document(page_content='Scraped Data\\nVankudrePrincipalVCET, VasaiChairman2Dr. Vikas GuptaDean\\n, AcademicsVCET, VasaiDean3Dr.  Megha TrivediHOD, CompsVCET, VasaiHOD4Dr. Swapna\\nBordeAsst.\\nProfessorVCET,  VasaiSr. Faculty5Dr. Subhash ShindeVice-PrincipalLTCOE &\\nMember BOS, Comp Engg, UoMUniversity Representative6Mr. Gaurav GhelaniAcademic\\nRelationship Manager India West & CentralTCS  MumbaiIndustry Representative7Mr. Sachin\\nSadreFounder/DirectorDigital Dojo OPC Pvt. Ltd.Industry Representative8Mr. Rahul  MhatreSenior\\nEngineering ManagerSAG Banglore Tech. Ltd.Industry Representative9Mr. Shailesh JainSoftware \\nEngineerWalmart Labs IndiaAlumni\\nRepresentative10Mr. Ritesh PuthranAssociate DirectorCloud SolutionsAlumni Representative11Mr. \\nAyub PatelEducatorVartak College, VasaiParent Representative12Ms. Akhila AnilkumarB.E.\\nComputer EngineeringVCET, Vasai.Student Representative13Mr. Aditya LawateT. E. Computer\\nEngineeringVCET,  VasaiStudent Representative14Mr. Anil HingmireAssistant ProfessorVCET,\\nVasaiConvener\\nDepartmental Advisory Board (DAB)\\nProgram Outcomes (POs):', metadata={'source': 'C:\\\\Users\\\\shett\\\\OneDrive\\\\Desktop\\\\Project\\\\chatbotuni\\\\scrapped_data\\\\Computer Engineering.pdf', 'page': 3}),\n",
       " Document(page_content='Scraped Data\\nProgram Educational Objectives (PEOs):\\nProgram Specific Outcomes (PSOs):\\nDr. Megha TrivediAssociate Professor & Head Of\\nDepartmenthod_comp@vcet.edu.inmegha.trivedi@vcet.edu.inDr. Satish\\nSalunkheProfessorsatish.salunkhe@vcet.edu.inDr. Dinesh PatilAssociate\\nProfessordinesh.patil@vcet.edu.inDr. Swapna BordeAsst. Prof.swapna.borde@vcet.edu.inMr.\\nVikrant AgaskarAsst. Prof.vikrant.agaskar@vcet.edu.inDr. Anil  HingmireAsst. Prof. & Deputy\\nHODanil.hingmire@vcet.edu.inMs. Smita JawaleAsst. Prof. & Deputy\\nHODsmita.jawale@vcet.edu.inMr. Sunil KatkarAsst. Prof.sunil.katkar@vcet.edu.inMs. Swati\\nVarmaAsst. Prof. (Ph.D. Pursuing)swati.varma@vcet.edu.inMr. Sanket PatilAsst. Prof. (Ph.D.\\nPursuing)sanket.patil@vcet.edu.inMs. Sneha MhatreAsst. Prof. \\xa0(Ph.D.\\nPursuing)sneha.mhatre@vcet.edu.inMs. Neha SurtiAsst. Prof.neha.surti@vcet.edu.inMs. Aarti\\nPuthranAsst. Prof.aarti.puthran@vcet.edu.inMs.  Akshaya PrabhuAsst.\\nProf.akshaya.prabhu@vcet.edu.inDr.  Amruta MhatreAsst. Prof.amruta.mhatre@vcet.edu.inMs.\\nPriyanka BolinjkarAsst. Prof.priyanka.bolinjkar@vcet.edu.inMr. Chintamani ChavanAsst.\\nProf.chintamani.chavan@vcet.edu.inMs. Brinal ColacoAsst. Prof. (Ph.D.\\nPursuing)brinal.colaco@vcet.edu.inMs.Priti RumaoAsst. Prof. (Ph.D.\\nPursuing)priti.rumao@vcet.edu.inMs. Soniya KhatuAsst. Prof.soniya.khatu@vcet.edu.in\\nDr. Megha Trivedi\\nAssociate Professor & Head Of Department', metadata={'source': 'C:\\\\Users\\\\shett\\\\OneDrive\\\\Desktop\\\\Project\\\\chatbotuni\\\\scrapped_data\\\\Computer Engineering.pdf', 'page': 4}),\n",
       " Document(page_content='Scraped Data\\nhod_comp@vcet.edu.in\\nDr. Satish Salunkhe\\nProfessor\\nsatish.salunkhe@vcet.edu.in\\nDr. Dinesh Patil\\nAssociate Professor\\ndinesh.patil@vcet.edu.in\\nDr. Swapna Borde\\nAsst. Prof.\\nMr. Vikrant Agaskar\\nDr. Anil  Hingmire\\nAsst. Prof. & Deputy HOD', metadata={'source': 'C:\\\\Users\\\\shett\\\\OneDrive\\\\Desktop\\\\Project\\\\chatbotuni\\\\scrapped_data\\\\Computer Engineering.pdf', 'page': 5}),\n",
       " Document(page_content='Scraped Data\\nMs. Smita Jawale\\nAsst. Prof. & Deputy HOD\\nMr. Sunil Katkar\\nMs. Swati Varma\\nAsst. Prof. (Ph.D. Pursuing)\\nMr. Sanket Patil\\nAsst. Prof. (Ph.D. Pursuing)\\nMs. Sneha Mhatre\\nAsst. Prof. \\xa0(Ph.D. Pursuing)\\nMs. Neha Surti\\nneha.surti@vcet.edu.in\\nMs. Aarti Puthran', metadata={'source': 'C:\\\\Users\\\\shett\\\\OneDrive\\\\Desktop\\\\Project\\\\chatbotuni\\\\scrapped_data\\\\Computer Engineering.pdf', 'page': 6}),\n",
       " Document(page_content='Scraped Data\\nAsst. Prof.\\naarti.puthran@vcet.edu.in\\nMs.  Akshaya Prabhu\\nAsst. Prof.\\nakshaya.prabhu@vcet.edu.in\\nDr.  Amruta Mhatre\\nAsst. Prof.\\namruta.mhatre@vcet.edu.in\\nMs. Priyanka Bolinjkar\\nAsst. Prof.\\npriyanka.bolinjkar@vcet.edu.in\\nMr. Chintamani Chavan', metadata={'source': 'C:\\\\Users\\\\shett\\\\OneDrive\\\\Desktop\\\\Project\\\\chatbotuni\\\\scrapped_data\\\\Computer Engineering.pdf', 'page': 7}),\n",
       " Document(page_content='Scraped Data\\nAsst. Prof.\\nchintamani.chavan@vcet.edu.in\\nMs. Brinal Colaco\\nAsst. Prof. (Ph.D. Pursuing)\\nbrinal.colaco@vcet.edu.in\\nMs.Priti Rumao\\nAsst. Prof. (Ph.D. Pursuing)\\npriti.rumao@vcet.edu.in\\nMs. Soniya Khatu\\nAsst. Prof.\\nsoniya.khatu@vcet.edu.in\\nLab In-Charge :', metadata={'source': 'C:\\\\Users\\\\shett\\\\OneDrive\\\\Desktop\\\\Project\\\\chatbotuni\\\\scrapped_data\\\\Computer Engineering.pdf', 'page': 8}),\n",
       " Document(page_content='Scraped Data\\nMr. VIKRANT AGASKAR  &  Ms. SNEHA  MHATRE\\nSoftware installed :\\nOS ? Windows 11 and Linux .SW- TC, JAVA,  Google Chrome.\\nHardware :\\nPC ? HP Core i5 ? No. 20 ,  Printer ? Dot Matrix, Laser printer, LCD Projector, Network switch etc.\\nFeatures :\\nLatest PC configuration with dual boot OS and All licensed SW with Internet enabled on all PC.\\nLab In-Charge :\\nDr. TATWADARSHI  P.N.\\nSoftware installed :\\nOS ? Windows 11 and Linux .SW- TC, JAVA,  Google Chrome.\\nHardware :', metadata={'source': 'C:\\\\Users\\\\shett\\\\OneDrive\\\\Desktop\\\\Project\\\\chatbotuni\\\\scrapped_data\\\\Computer Engineering.pdf', 'page': 9}),\n",
       " Document(page_content='Scraped Data\\nPC ? HP Core i5 ? No. 16 ,  HP Core i5 with GPU ? No. 06, Printer ? Dot Matrix, Laser printer, LCD\\nProjector, Network Switch etc.\\nFeatures :\\nLatest PC configuration with dual boot OS and All licensed SW with Internet enabled on all PC.\\nLab In-Charge :\\nMr. ANIL  HINGMIRE  &  Dr.  SWAPNA  BORDE\\nSoftware installed :\\nOS ? Windows 11 and Linux .SW- TC, JAVA,  Google Chrome.\\nHardware :\\nPC ? HP Core i5  with GPU ? No. 19 ,  Printer ? Dot Matrix, Laser printer, LCD Projector, Network\\nSwitch etc.\\nFeatures :\\nLatest PC configuration with dual boot OS and All licensed SW with Internet enabled on all PC.', metadata={'source': 'C:\\\\Users\\\\shett\\\\OneDrive\\\\Desktop\\\\Project\\\\chatbotuni\\\\scrapped_data\\\\Computer Engineering.pdf', 'page': 10}),\n",
       " Document(page_content='Scraped Data\\nLab In-Charge :\\nMs.  SMITA  JAWALE\\nSoftware installed :\\nOS ? Windows 11 and Linux .SW- TC, JAVA,  Google Chrome.\\nHardware :\\nPC ? HP Core i5 ? No. 21 ,  Printer ? Dot Matrix, Laser printer, LCD Projector, Network Switch & HP\\nServer 01 .\\nFeatures :\\nLatest PC configuration with dual boot OS and All licensed SW with Internet enabled on all PC.\\nLab In-Charge :\\nDr.  DINESH  PATIL\\nSoftware installed :\\nOS ? Windows 11 and Linux .SW- TC, JAVA,  Google Chrome.', metadata={'source': 'C:\\\\Users\\\\shett\\\\OneDrive\\\\Desktop\\\\Project\\\\chatbotuni\\\\scrapped_data\\\\Computer Engineering.pdf', 'page': 11}),\n",
       " Document(page_content='Scraped Data\\nHardware :\\nPC ? HP Core i5 ? No. 20 ,  Printer ? Dot Matrix, Laser printer, LCD Projector, Network Switch etc,\\nFeatures :\\nLatest PC configuration with dual boot OS and All licensed SW with Internet enabled on all PC.\\nLab In-Charge :\\nMr. SUNIL KATKAR  &  Ms, SWATI VARMA\\nSoftware installed :\\nOS ? Windows 11 and Linux .SW- TC, JAVA,  Google Chrome.\\nHardware :\\nPC ? HP Core i5 ? No. 20 ,  Printer ? Dot Matrix, LCD Projector, Network Switch  etc.\\nFeatures :\\nLatest PC configuration with dual boot OS and All licensed SW with Internet enabled on all PC.', metadata={'source': 'C:\\\\Users\\\\shett\\\\OneDrive\\\\Desktop\\\\Project\\\\chatbotuni\\\\scrapped_data\\\\Computer Engineering.pdf', 'page': 12}),\n",
       " Document(page_content='Scraped Data\\nSETEBE1. SWARA  GHARAT  :  9.61  CGPI1. AKHILA ANILKUMAR  : 9.72  CGPI1. PRACHI\\nPATIL :   9.62 CGPI2. BRAMHETI PATIL : 9.25  CGPI2. DIMPLE  KHUMAN  : 9.22 CGPI2.\\nDHANISHA  RAUT :  9.57 CGPI3. NISHANT BHANDIGARE :  9.223. KSHITIJ  PATIL : 9.09 \\nCGPI3. MOHIT  SUNGH :  9.55  CGPI3. SARVESH  KALE : 9.55 CGPI\\nSyllabus\\n :\\nRevised 2019-20\\nHonors & Minor Degree Program\\nPO PSO CO\\nPatents Published\\n :Patent-1: Mr. Anil HingmirePatent-2: Dr. Tatwadarshi  P.N.Patent-3: Mr Anil Hingmire.Patent-4: Dr.\\nDinesh Patil.Patent-5: Dr. Tatwadarshi  P.N.Patent-6: Mr. Sunil KatkarPatent-7: Mr. Sunil\\nKatkarPatent-8: Ms. Amruta  MhatreCopyrights Registered:Copy-1: Mr. Anil  HingmireCopy-2: Dr.\\nTatwadashi P.N.Copy-3: Dr. Megha  TrivediCopy-4: Dr. Tatwadarshi P. N.Copy-5: Dr. Tatwadarshi\\nP. N.Copy-6: Dr. Tatwadarshi P. N.Copy-7: Ms. Sneha  MhatreCopy-8: Ms. Sneha  MhatreCopy-9:\\nMs. Sneha  MhatreCopy-10: Ms. Sneha  MhatreCopy-11: Ms. Sneha  MhatreCopy-12: Ms. Sneha \\nMhatreCopy-13: Mr. Vikrant  AgaskarCopy-14: Mr. Sunil  KatkarCopy-15: Dr. Tatwadarshi P.\\nN.Copy-16: Dr. Tatwadarshi P. N.Copy-17:  Dr. Tatwadarshi P. N.Copy-18: Dr. Tatwadarshi P.\\nN.Copy-19: Mr. Sanket  PatilCopy-20: Dr. Megha TrivediCopy-21: Dr. Megha TrivediCopy-22: Dr.', metadata={'source': 'C:\\\\Users\\\\shett\\\\OneDrive\\\\Desktop\\\\Project\\\\chatbotuni\\\\scrapped_data\\\\Computer Engineering.pdf', 'page': 13}),\n",
       " Document(page_content='Scraped Data\\nSwapna  BordeCopy-23: Dr. Dinesh Patil\\nPatents Published\\n :\\nCopyrights Registered:\\nInnovation in Teaching Learning :Year  2023-24 Odd SemYear  2022-23 Even SemYear  2022-23\\nOdd SemYear  2021-22Year  2020-21\\nInnovation in Teaching Learning :\\nMoU :MoU List\\nMoU :\\nTime TableEven_Sem_2023-24\\nTime Table\\nNewsletter\\nWall-Magazine', metadata={'source': 'C:\\\\Users\\\\shett\\\\OneDrive\\\\Desktop\\\\Project\\\\chatbotuni\\\\scrapped_data\\\\Computer Engineering.pdf', 'page': 14}),\n",
       " Document(page_content='Scraped Data\\nE -Magazine\\nCommittee Details\\nStaff Incharge\\nMr. Vikrant Agaskar\\nSTUDENTCOMMITTEE:\\nMenu\\nUseful Links\\nContact', metadata={'source': 'C:\\\\Users\\\\shett\\\\OneDrive\\\\Desktop\\\\Project\\\\chatbotuni\\\\scrapped_data\\\\Computer Engineering.pdf', 'page': 15}),\n",
       " Document(page_content=\"Scraped Data\\nVidyavardhini's College Of Engineering & Technology, Vasai Road\\n??????????????? ???????????? ??? ?????????? ???????????, ??? ???\\n(Approved by AICTE, DTE Maharashtra and Affiliated to University of Mumbai)\\nNBA & NAAC Accredited\\nComputer Society of India\\nHome»CSI\\nComputer Society of India is the first and largest body of computer professionals in India. The CSI\\nstudents chapter of VCET was established in the year 2003. Amidst all, it?s other responsibilities the\\nCSI students chapter understands that the primary objective of its existence is to promote the\\ndevelopment of a coding culture and to help students ameliorate their technical skills. To achieve\\nthis, CSI-VCET organizes various technical seminars, workshops, coding competitions, and project\\nshowcases every year.\\nPreviousNext\\nMs.Swati Varma (Computer Engg.)swati.varma@vcet.edu.in9869775463Ms. Maya Varghese\\n(CSE-DS)maya.varghese@vcet.edu.in9699547709Ms. Pragati Patil\\n(InfoTech.)pragati.patil@vcet.edu.in9769990253\", metadata={'source': 'C:\\\\Users\\\\shett\\\\OneDrive\\\\Desktop\\\\Project\\\\chatbotuni\\\\scrapped_data\\\\Computer Society of India.pdf', 'page': 0}),\n",
       " Document(page_content='Scraped Data\\nMs.Swati Varma (Computer Engg.)\\nMs. Maya Varghese (CSE-DS)\\nMs. Pragati Patil (InfoTech.)\\nCSI Committee (2023-24) :POSITIONNAMECONTACT No.ChairpersonAditi \\nSawant7719980376TreasurerVedant  GholapHarsh\\nSawant96232656067798963544SecretaryPoonam Bhavsar9324816515Joint  SecretaryAkash \\nAdarkarDivya Patil77090026168329885339Technical HeadAnish PatilOm\\nAchrekar83559950759819930448Organizing HeadKshitij PatilShlok ShettyPallavi ThakurNimish\\nVartak9323544113952797573593734393577219689715PR HeadBhupeksha PatilSiddhi\\nKolwankarSanskruti KokareKhushali\\nKaku9421428533899966818288569584217387352210Sponsorship HeadOnkar SuryavanshiVinish\\nNagzarkarPrathmesh Thakare983479169398925799399665515996Creative HeadDhanashree\\nRautTanishka WaniDipanshu VartakShubham Warik967317820899758018109890349559Reports ?\\nEvents and Committee Details\\n:2022-20232021-20222020-20212019-20202018-20192017-2018\\nCSI Committee (2023-24) :\\nReports ? Events and Committee Details\\n:', metadata={'source': 'C:\\\\Users\\\\shett\\\\OneDrive\\\\Desktop\\\\Project\\\\chatbotuni\\\\scrapped_data\\\\Computer Society of India.pdf', 'page': 1}),\n",
       " Document(page_content='Scraped Data\\nComputer Society of India is the first and largest body of computer professionals in India. The CSI\\nstudents chapter of VCET was established in the year 2003. Amidst all, it?s other responsibilities the\\nCSI students chapter understands that the primary objective of its existence is to promote the\\ndevelopment of a coding culture and to help students ameliorate their technical skills. To achieve\\nthis, CSI-VCET organizes various technical seminars, workshops, coding competitions, and project\\nshowcases every year.\\nPreviousNext\\nMs.Swati Varma (Computer Engg.)swati.varma@vcet.edu.in9869775463Ms. Maya Varghese\\n(CSE-DS)maya.varghese@vcet.edu.in9699547709Ms. Pragati Patil\\n(InfoTech.)pragati.patil@vcet.edu.in9769990253\\nMs.Swati Varma (Computer Engg.)\\nMs. Maya Varghese (CSE-DS)\\nMs. Pragati Patil (InfoTech.)\\nCSI Committee (2023-24) :POSITIONNAMECONTACT No.ChairpersonAditi \\nSawant7719980376TreasurerVedant  GholapHarsh\\nSawant96232656067798963544SecretaryPoonam Bhavsar9324816515Joint  SecretaryAkash \\nAdarkarDivya Patil77090026168329885339Technical HeadAnish PatilOm\\nAchrekar83559950759819930448Organizing HeadKshitij PatilShlok ShettyPallavi ThakurNimish', metadata={'source': 'C:\\\\Users\\\\shett\\\\OneDrive\\\\Desktop\\\\Project\\\\chatbotuni\\\\scrapped_data\\\\Computer Society of India.pdf', 'page': 2}),\n",
       " Document(page_content='Scraped Data\\nVartak9323544113952797573593734393577219689715PR HeadBhupeksha PatilSiddhi\\nKolwankarSanskruti KokareKhushali\\nKaku9421428533899966818288569584217387352210Sponsorship HeadOnkar SuryavanshiVinish\\nNagzarkarPrathmesh Thakare983479169398925799399665515996Creative HeadDhanashree\\nRautTanishka WaniDipanshu VartakShubham Warik967317820899758018109890349559Reports -\\nEvents and Committee Details\\n:2022-20232021-20222020-20212019-20202018-20192017-2018\\nCSI Committee (2023-24) :\\nReports - Events and Committee Details\\n:\\nMenu\\nUseful Links\\nContact', metadata={'source': 'C:\\\\Users\\\\shett\\\\OneDrive\\\\Desktop\\\\Project\\\\chatbotuni\\\\scrapped_data\\\\Computer Society of India.pdf', 'page': 3})]"
      ]
     },
     "execution_count": 4,
     "metadata": {},
     "output_type": "execute_result"
    }
   ],
   "source": [
    "loader = PyPDFDirectoryLoader('./C:/Users/shett/OneDrive/Desktop/Project/chatbotuni/scrapped_data')\n",
    "documentData = loader.load ()\n",
    "documentData[:60]"
   ]
  },
  {
   "cell_type": "markdown",
   "metadata": {},
   "source": [
    "### Creating Vectors"
   ]
  },
  {
   "cell_type": "code",
   "execution_count": 5,
   "metadata": {},
   "outputs": [],
   "source": [
    "from langchain.text_splitter import RecursiveCharacterTextSplitter"
   ]
  },
  {
   "cell_type": "code",
   "execution_count": 6,
   "metadata": {},
   "outputs": [],
   "source": [
    "textSplitter = RecursiveCharacterTextSplitter (\n",
    "    chunk_size = 1000,\n",
    "    chunk_overlap = 20\n",
    ")"
   ]
  },
  {
   "cell_type": "code",
   "execution_count": 7,
   "metadata": {},
   "outputs": [],
   "source": [
    "refinedDocument = textSplitter.split_documents (documents = documentData)"
   ]
  },
  {
   "cell_type": "code",
   "execution_count": 8,
   "metadata": {},
   "outputs": [],
   "source": [
    "# refinedDocument"
   ]
  },
  {
   "cell_type": "markdown",
   "metadata": {},
   "source": [
    "### Storing vectors in form of embeddings in Vector DB"
   ]
  },
  {
   "cell_type": "code",
   "execution_count": 9,
   "metadata": {},
   "outputs": [],
   "source": [
    "from langchain_community.vectorstores import FAISS\n",
    "from langchain_community.embeddings import OllamaEmbeddings"
   ]
  },
  {
   "cell_type": "code",
   "execution_count": 9,
   "metadata": {},
   "outputs": [],
   "source": [
    "vectorDatabase = FAISS.from_documents (\n",
    "    documents = refinedDocument[:60],\n",
    "    embedding = OllamaEmbeddings (model = 'llama3')\n",
    ")"
   ]
  },
  {
   "cell_type": "code",
   "execution_count": 10,
   "metadata": {},
   "outputs": [
    {
     "data": {
      "text/plain": [
       "<langchain_community.vectorstores.faiss.FAISS at 0x149a42e1a90>"
      ]
     },
     "execution_count": 10,
     "metadata": {},
     "output_type": "execute_result"
    }
   ],
   "source": [
    "vectorDatabase"
   ]
  },
  {
   "cell_type": "code",
   "execution_count": 11,
   "metadata": {},
   "outputs": [
    {
     "data": {
      "text/plain": [
       "'has been crucially involved in every aspect of this work. Noam proposed scaled dot-product attention, multi-head\\nattention and the parameter-free position representation and became the other person involved in nearly every\\ndetail. Niki designed, implemented, tuned and evaluated countless model variants in our original codebase and\\ntensor2tensor. Llion also experimented with novel model variants, was responsible for our initial codebase, and\\nefficient inference and visualizations. Lukasz and Aidan spent countless long days designing various parts of and\\nimplementing tensor2tensor, replacing our earlier codebase, greatly improving results and massively accelerating\\nour research.\\n†Work performed while at Google Brain.\\n‡Work performed while at Google Research.\\n31st Conference on Neural Information Processing Systems (NIPS 2017), Long Beach, CA, USA.arXiv:1706.03762v7  [cs.CL]  2 Aug 2023'"
      ]
     },
     "execution_count": 11,
     "metadata": {},
     "output_type": "execute_result"
    }
   ],
   "source": [
    "query = 'sequence transduction models'\n",
    "result = vectorDatabase.similarity_search (query=query)\n",
    "result[0].page_content"
   ]
  },
  {
   "cell_type": "code",
   "execution_count": 12,
   "metadata": {},
   "outputs": [
    {
     "data": {
      "text/plain": [
       "Ollama(model='llama3')"
      ]
     },
     "execution_count": 12,
     "metadata": {},
     "output_type": "execute_result"
    }
   ],
   "source": [
    "from langchain_community.llms import Ollama\n",
    "model = Ollama (model = 'llama3')\n",
    "model"
   ]
  },
  {
   "cell_type": "markdown",
   "metadata": {},
   "source": [
    "### Designing Prompt Template"
   ]
  },
  {
   "cell_type": "code",
   "execution_count": 13,
   "metadata": {},
   "outputs": [],
   "source": [
    "from langchain_core.prompts import ChatPromptTemplate"
   ]
  },
  {
   "cell_type": "code",
   "execution_count": 14,
   "metadata": {},
   "outputs": [],
   "source": [
    "prompt = ChatPromptTemplate.from_template (\n",
    "    '''\n",
    "        Answer the following question based on the provided context.\n",
    "        <context>\n",
    "            {context}\n",
    "        </context>\n",
    "        Questions : {input}\n",
    "    '''\n",
    ")"
   ]
  },
  {
   "cell_type": "markdown",
   "metadata": {},
   "source": [
    "### Creating the Retriever"
   ]
  },
  {
   "cell_type": "code",
   "execution_count": 15,
   "metadata": {},
   "outputs": [
    {
     "data": {
      "text/plain": [
       "VectorStoreRetriever(tags=['FAISS', 'OllamaEmbeddings'], vectorstore=<langchain_community.vectorstores.faiss.FAISS object at 0x00000149A42E1A90>)"
      ]
     },
     "execution_count": 15,
     "metadata": {},
     "output_type": "execute_result"
    }
   ],
   "source": [
    "retriever = vectorDatabase.as_retriever ()\n",
    "retriever"
   ]
  },
  {
   "cell_type": "markdown",
   "metadata": {},
   "source": [
    "### Creating the Chain for Retriever"
   ]
  },
  {
   "cell_type": "code",
   "execution_count": 16,
   "metadata": {},
   "outputs": [],
   "source": [
    "from langchain.chains.combine_documents import create_stuff_documents_chain"
   ]
  },
  {
   "cell_type": "code",
   "execution_count": 17,
   "metadata": {},
   "outputs": [],
   "source": [
    "documentChain = create_stuff_documents_chain (\n",
    "    llm = model,\n",
    "    prompt = prompt\n",
    ")"
   ]
  },
  {
   "cell_type": "markdown",
   "metadata": {},
   "source": [
    "### Retrieval Chain"
   ]
  },
  {
   "cell_type": "code",
   "execution_count": 18,
   "metadata": {},
   "outputs": [],
   "source": [
    "from langchain.chains import create_retrieval_chain"
   ]
  },
  {
   "cell_type": "code",
   "execution_count": 19,
   "metadata": {},
   "outputs": [],
   "source": [
    "retrievalChain = create_retrieval_chain (\n",
    "    retriever,\n",
    "    documentChain\n",
    ")"
   ]
  },
  {
   "cell_type": "code",
   "execution_count": 20,
   "metadata": {},
   "outputs": [],
   "source": [
    "response = retrievalChain.invoke ({\n",
    "    'input' : 'With what are the best performing models connected'\n",
    "})"
   ]
  },
  {
   "cell_type": "code",
   "execution_count": null,
   "metadata": {},
   "outputs": [],
   "source": [
    "response['answer']"
   ]
  },
  {
   "cell_type": "code",
   "execution_count": null,
   "metadata": {},
   "outputs": [],
   "source": []
  }
 ],
 "metadata": {
  "kernelspec": {
   "display_name": "Python 3",
   "language": "python",
   "name": "python3"
  },
  "language_info": {
   "codemirror_mode": {
    "name": "ipython",
    "version": 3
   },
   "file_extension": ".py",
   "mimetype": "text/x-python",
   "name": "python",
   "nbconvert_exporter": "python",
   "pygments_lexer": "ipython3",
   "version": "3.11.5"
  }
 },
 "nbformat": 4,
 "nbformat_minor": 2
}
